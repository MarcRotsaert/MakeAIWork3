{
 "cells": [
  {
   "cell_type": "markdown",
   "id": "0115ae64",
   "metadata": {},
   "source": [
    "# Referenties"
   ]
  },
  {
   "cell_type": "markdown",
   "id": "0e4b86b7",
   "metadata": {},
   "source": [
    "Altijd beginnen met 'getting started':\n",
    "\n",
    "https://pandas.pydata.org/docs/getting_started/index.html#getting-started\n",
    "\n",
    "Dan een snel overzicht:\n",
    "\n",
    "https://pandas.pydata.org/docs/user_guide/10min.html\n",
    "\n",
    "Daarna kijken naar de API beschrijving:\n",
    "\n",
    "https://pandas.pydata.org/docs/reference/index.html"
   ]
  },
  {
   "cell_type": "markdown",
   "id": "0aed921b",
   "metadata": {},
   "source": [
    "# Installatie"
   ]
  },
  {
   "cell_type": "markdown",
   "id": "5f3de6ad",
   "metadata": {},
   "source": [
    "Run `pip3 install pandas` in the terminal to install the Pandas library."
   ]
  },
  {
   "cell_type": "markdown",
   "id": "a2952930",
   "metadata": {},
   "source": [
    "# Imports"
   ]
  },
  {
   "cell_type": "code",
   "execution_count": 2,
   "id": "ccc131b9",
   "metadata": {},
   "outputs": [],
   "source": [
    "import pandas as pd\n",
    "\n",
    "import matplotlib.pyplot as plt"
   ]
  },
  {
   "cell_type": "markdown",
   "id": "52993ea0",
   "metadata": {},
   "source": [
    "# Schets"
   ]
  },
  {
   "cell_type": "code",
   "execution_count": 3,
   "id": "57c534fd",
   "metadata": {},
   "outputs": [
    {
     "name": "stdout",
     "output_type": "stream",
     "text": [
      "                       Name  Age     Sex\n",
      "0   Braund, Mr. Owen Harris   22    male\n",
      "1  Allen, Mr. William Henry   35    male\n",
      "2  Bonnell, Miss. Elizabeth   58  female\n"
     ]
    },
    {
     "data": {
      "text/html": [
       "<div>\n",
       "<style scoped>\n",
       "    .dataframe tbody tr th:only-of-type {\n",
       "        vertical-align: middle;\n",
       "    }\n",
       "\n",
       "    .dataframe tbody tr th {\n",
       "        vertical-align: top;\n",
       "    }\n",
       "\n",
       "    .dataframe thead th {\n",
       "        text-align: right;\n",
       "    }\n",
       "</style>\n",
       "<table border=\"1\" class=\"dataframe\">\n",
       "  <thead>\n",
       "    <tr style=\"text-align: right;\">\n",
       "      <th></th>\n",
       "      <th>Name</th>\n",
       "      <th>Age</th>\n",
       "      <th>Sex</th>\n",
       "    </tr>\n",
       "  </thead>\n",
       "  <tbody>\n",
       "    <tr>\n",
       "      <th>0</th>\n",
       "      <td>Braund, Mr. Owen Harris</td>\n",
       "      <td>22</td>\n",
       "      <td>male</td>\n",
       "    </tr>\n",
       "    <tr>\n",
       "      <th>1</th>\n",
       "      <td>Allen, Mr. William Henry</td>\n",
       "      <td>35</td>\n",
       "      <td>male</td>\n",
       "    </tr>\n",
       "    <tr>\n",
       "      <th>2</th>\n",
       "      <td>Bonnell, Miss. Elizabeth</td>\n",
       "      <td>58</td>\n",
       "      <td>female</td>\n",
       "    </tr>\n",
       "  </tbody>\n",
       "</table>\n",
       "</div>"
      ],
      "text/plain": [
       "                       Name  Age     Sex\n",
       "0   Braund, Mr. Owen Harris   22    male\n",
       "1  Allen, Mr. William Henry   35    male\n",
       "2  Bonnell, Miss. Elizabeth   58  female"
      ]
     },
     "execution_count": 3,
     "metadata": {},
     "output_type": "execute_result"
    }
   ],
   "source": [
    "# Dataframe maken\n",
    "df = pd.DataFrame(\n",
    "    {\n",
    "        \"Name\": [\n",
    "            \"Braund, Mr. Owen Harris\",\n",
    "            \"Allen, Mr. William Henry\",\n",
    "            \"Bonnell, Miss. Elizabeth\",\n",
    "        ],\n",
    "        \"Age\": [\n",
    "            22,\n",
    "            35,\n",
    "            58\n",
    "        ],\n",
    "        \"Sex\": [\n",
    "            \"male\",\n",
    "            \"male\",\n",
    "            \"female\"\n",
    "        ],\n",
    "    }\n",
    ")\n",
    "\n",
    "# Standaard print\n",
    "print(df)\n",
    "# ...\n",
    "\n",
    "# Vergelijk met\n",
    "df\n",
    "#import pprint as pp\n",
    "#pp.pprint(df)\n",
    "# ..."
   ]
  },
  {
   "cell_type": "code",
   "execution_count": 4,
   "id": "2a8aee00",
   "metadata": {},
   "outputs": [],
   "source": [
    "# Data opslaan\n",
    "\n",
    "df.to_csv('./output/test.csv')\n",
    "\n",
    "\n",
    "# ..."
   ]
  },
  {
   "cell_type": "code",
   "execution_count": 5,
   "id": "c98bde01",
   "metadata": {},
   "outputs": [
    {
     "name": "stdout",
     "output_type": "stream",
     "text": [
      "   Unnamed: 0                      Name  Age     Sex\n",
      "0           0   Braund, Mr. Owen Harris   22    male\n",
      "1           1  Allen, Mr. William Henry   35    male\n",
      "2           2  Bonnell, Miss. Elizabeth   58  female\n",
      "                       Name  Age     Sex\n",
      "0   Braund, Mr. Owen Harris   22    male\n",
      "1  Allen, Mr. William Henry   35    male\n",
      "2  Bonnell, Miss. Elizabeth   58  female\n",
      "                       Name  Age     Sex\n",
      "0   Braund, Mr. Owen Harris   22    male\n",
      "1  Allen, Mr. William Henry   35    male\n",
      "2  Bonnell, Miss. Elizabeth   58  female\n"
     ]
    }
   ],
   "source": [
    "# Data inlezen\n",
    "df2 = pd.read_csv('./output/test.csv')\n",
    "print(df2)\n",
    "df3 = pd.read_csv('./output/test.csv',index_col=0)\n",
    "df3 = pd.read_csv('./output/test.csv',index_col=0)\n",
    "print(df3)\n",
    "df.to_csv('./output/test.csv',index=False)\n",
    "df4 = pd.read_csv('./output/test.csv')\n",
    "print(df4)\n",
    "\n"
   ]
  },
  {
   "cell_type": "code",
   "execution_count": 6,
   "id": "683e2d08",
   "metadata": {},
   "outputs": [
    {
     "data": {
      "text/plain": [
       "0     Braund, Mr. Owen Harris\n",
       "1    Allen, Mr. William Henry\n",
       "2    Bonnell, Miss. Elizabeth\n",
       "Name: Name, dtype: object"
      ]
     },
     "execution_count": 6,
     "metadata": {},
     "output_type": "execute_result"
    }
   ],
   "source": [
    "# Een kolom lezen\n",
    "df2['Name']\n",
    "\n",
    "# ..."
   ]
  },
  {
   "cell_type": "code",
   "execution_count": 7,
   "id": "99887936",
   "metadata": {},
   "outputs": [
    {
     "name": "stdout",
     "output_type": "stream",
     "text": [
      "Index(['Unnamed: 0', 'Name', 'Age', 'Sex'], dtype='object')\n",
      "\n",
      "   Unnamed: 0                     Name  Age   Sex\n",
      "0           0  Braund, Mr. Owen Harris   22  male\n",
      "\n",
      "   Unnamed: 0                      Name  Age   Sex\n",
      "0           0   Braund, Mr. Owen Harris   22  male\n",
      "1           1  Allen, Mr. William Henry   35  male\n",
      "\n",
      "   Unnamed: 0                      Name  Age     Sex\n",
      "2           2  Bonnell, Miss. Elizabeth   58  female\n"
     ]
    }
   ],
   "source": [
    "# De kolomnaam\n",
    "print(df2.columns)\n",
    "print()\n",
    "print(df2.head(1))\n",
    "print()\n",
    "print(df2.head(2))\n",
    "print()\n",
    "print(df2.tail(1))\n",
    "\n",
    "# ..."
   ]
  },
  {
   "cell_type": "code",
   "execution_count": 8,
   "id": "62a8fd3b",
   "metadata": {},
   "outputs": [
    {
     "name": "stdout",
     "output_type": "stream",
     "text": [
      "                       Name  Age     Sex\n",
      "0   Braund, Mr. Owen Harris   22    male\n",
      "1  Allen, Mr. William Henry   35    male\n",
      "2  Bonnell, Miss. Elizabeth   58  female\n"
     ]
    }
   ],
   "source": [
    "# Een kolom verwijderen\n",
    "df2.pop('Unnamed: 0')\n",
    "print(df2)\n",
    "# ..."
   ]
  },
  {
   "cell_type": "code",
   "execution_count": 9,
   "id": "61c6f8e4",
   "metadata": {},
   "outputs": [
    {
     "name": "stdout",
     "output_type": "stream",
     "text": [
      "Name    Braund, Mr. Owen Harris\n",
      "Age                          22\n",
      "Sex                        male\n",
      "Name: 0, dtype: object\n",
      "Name    Braund, Mr. Owen Harris\n",
      "Age                          22\n",
      "Sex                        male\n",
      "Name: 0, dtype: object\n",
      "Index(['Name', 'Age', 'Sex'], dtype='object')\n",
      "Braund, Mr. Owen Harris\n"
     ]
    }
   ],
   "source": [
    "# Een rij lezen\n",
    "#df['Name']\n",
    "print(df.loc[0])\n",
    "print(df.iloc[0])\n",
    "print(df.iloc[0].keys())\n",
    "print(df.iloc[0]['Name'])\n",
    "# ..."
   ]
  },
  {
   "cell_type": "code",
   "execution_count": 10,
   "id": "51eabbb2",
   "metadata": {},
   "outputs": [
    {
     "name": "stdout",
     "output_type": "stream",
     "text": [
      "                       Name  Age   Sex\n",
      "1  Allen, Mr. William Henry   35  male\n",
      "<class 'pandas.core.frame.DataFrame'>\n",
      "(1, 3)\n"
     ]
    }
   ],
   "source": [
    "# Functie getRow() maken\n",
    "def get_row(df, inr):\n",
    "    return df.loc[inr:inr]\n",
    "\n",
    "# Testen\n",
    "print(get_row(df,1))\n",
    "print(type(get_row(df,1)))\n",
    "print(get_row(df,1).shape)\n",
    "# ...\n"
   ]
  },
  {
   "cell_type": "code",
   "execution_count": 11,
   "id": "6ef5de0c",
   "metadata": {},
   "outputs": [
    {
     "name": "stdout",
     "output_type": "stream",
     "text": [
      "Help on method add in module pandas.core.ops:\n",
      "\n",
      "add(other, axis='columns', level=None, fill_value=None) method of pandas.core.frame.DataFrame instance\n",
      "    Get Addition of dataframe and other, element-wise (binary operator `add`).\n",
      "    \n",
      "    Equivalent to ``dataframe + other``, but with support to substitute a fill_value\n",
      "    for missing data in one of the inputs. With reverse version, `radd`.\n",
      "    \n",
      "    Among flexible wrappers (`add`, `sub`, `mul`, `div`, `mod`, `pow`) to\n",
      "    arithmetic operators: `+`, `-`, `*`, `/`, `//`, `%`, `**`.\n",
      "    \n",
      "    Parameters\n",
      "    ----------\n",
      "    other : scalar, sequence, Series, dict or DataFrame\n",
      "        Any single or multiple element data structure, or list-like object.\n",
      "    axis : {0 or 'index', 1 or 'columns'}\n",
      "        Whether to compare by the index (0 or 'index') or columns.\n",
      "        (1 or 'columns'). For Series input, axis to match Series index on.\n",
      "    level : int or label\n",
      "        Broadcast across a level, matching Index values on the\n",
      "        passed MultiIndex level.\n",
      "    fill_value : float or None, default None\n",
      "        Fill existing missing (NaN) values, and any new element needed for\n",
      "        successful DataFrame alignment, with this value before computation.\n",
      "        If data in both corresponding DataFrame locations is missing\n",
      "        the result will be missing.\n",
      "    \n",
      "    Returns\n",
      "    -------\n",
      "    DataFrame\n",
      "        Result of the arithmetic operation.\n",
      "    \n",
      "    See Also\n",
      "    --------\n",
      "    DataFrame.add : Add DataFrames.\n",
      "    DataFrame.sub : Subtract DataFrames.\n",
      "    DataFrame.mul : Multiply DataFrames.\n",
      "    DataFrame.div : Divide DataFrames (float division).\n",
      "    DataFrame.truediv : Divide DataFrames (float division).\n",
      "    DataFrame.floordiv : Divide DataFrames (integer division).\n",
      "    DataFrame.mod : Calculate modulo (remainder after division).\n",
      "    DataFrame.pow : Calculate exponential power.\n",
      "    \n",
      "    Notes\n",
      "    -----\n",
      "    Mismatched indices will be unioned together.\n",
      "    \n",
      "    Examples\n",
      "    --------\n",
      "    >>> df = pd.DataFrame({'angles': [0, 3, 4],\n",
      "    ...                    'degrees': [360, 180, 360]},\n",
      "    ...                   index=['circle', 'triangle', 'rectangle'])\n",
      "    >>> df\n",
      "               angles  degrees\n",
      "    circle          0      360\n",
      "    triangle        3      180\n",
      "    rectangle       4      360\n",
      "    \n",
      "    Add a scalar with operator version which return the same\n",
      "    results.\n",
      "    \n",
      "    >>> df + 1\n",
      "               angles  degrees\n",
      "    circle          1      361\n",
      "    triangle        4      181\n",
      "    rectangle       5      361\n",
      "    \n",
      "    >>> df.add(1)\n",
      "               angles  degrees\n",
      "    circle          1      361\n",
      "    triangle        4      181\n",
      "    rectangle       5      361\n",
      "    \n",
      "    Divide by constant with reverse version.\n",
      "    \n",
      "    >>> df.div(10)\n",
      "               angles  degrees\n",
      "    circle        0.0     36.0\n",
      "    triangle      0.3     18.0\n",
      "    rectangle     0.4     36.0\n",
      "    \n",
      "    >>> df.rdiv(10)\n",
      "                 angles   degrees\n",
      "    circle          inf  0.027778\n",
      "    triangle   3.333333  0.055556\n",
      "    rectangle  2.500000  0.027778\n",
      "    \n",
      "    Subtract a list and Series by axis with operator version.\n",
      "    \n",
      "    >>> df - [1, 2]\n",
      "               angles  degrees\n",
      "    circle         -1      358\n",
      "    triangle        2      178\n",
      "    rectangle       3      358\n",
      "    \n",
      "    >>> df.sub([1, 2], axis='columns')\n",
      "               angles  degrees\n",
      "    circle         -1      358\n",
      "    triangle        2      178\n",
      "    rectangle       3      358\n",
      "    \n",
      "    >>> df.sub(pd.Series([1, 1, 1], index=['circle', 'triangle', 'rectangle']),\n",
      "    ...        axis='index')\n",
      "               angles  degrees\n",
      "    circle         -1      359\n",
      "    triangle        2      179\n",
      "    rectangle       3      359\n",
      "    \n",
      "    Multiply a dictionary by axis.\n",
      "    \n",
      "    >>> df.mul({'angles': 0, 'degrees': 2})\n",
      "                angles      degrees\n",
      "    circle           0          720\n",
      "    triangle             0      360\n",
      "    rectangle            0      720\n",
      "    \n",
      "    >>> df.mul({'circle': 0, 'triangle': 2, 'rectangle': 3}, axis='index')\n",
      "                angles      degrees\n",
      "    circle               0        0\n",
      "    triangle             6      360\n",
      "    rectangle           12     1080\n",
      "    \n",
      "    Multiply a DataFrame of different shape with operator version.\n",
      "    \n",
      "    >>> other = pd.DataFrame({'angles': [0, 3, 4]},\n",
      "    ...                      index=['circle', 'triangle', 'rectangle'])\n",
      "    >>> other\n",
      "               angles\n",
      "    circle          0\n",
      "    triangle        3\n",
      "    rectangle       4\n",
      "    \n",
      "    >>> df * other\n",
      "               angles  degrees\n",
      "    circle          0      NaN\n",
      "    triangle        9      NaN\n",
      "    rectangle      16      NaN\n",
      "    \n",
      "    >>> df.mul(other, fill_value=0)\n",
      "               angles  degrees\n",
      "    circle          0      0.0\n",
      "    triangle        9      0.0\n",
      "    rectangle      16      0.0\n",
      "    \n",
      "    Divide by a MultiIndex by level.\n",
      "    \n",
      "    >>> df_multindex = pd.DataFrame({'angles': [0, 3, 4, 4, 5, 6],\n",
      "    ...                              'degrees': [360, 180, 360, 360, 540, 720]},\n",
      "    ...                             index=[['A', 'A', 'A', 'B', 'B', 'B'],\n",
      "    ...                                    ['circle', 'triangle', 'rectangle',\n",
      "    ...                                     'square', 'pentagon', 'hexagon']])\n",
      "    >>> df_multindex\n",
      "                 angles  degrees\n",
      "    A circle          0      360\n",
      "      triangle        3      180\n",
      "      rectangle       4      360\n",
      "    B square          4      360\n",
      "      pentagon        5      540\n",
      "      hexagon         6      720\n",
      "    \n",
      "    >>> df.div(df_multindex, level=1, fill_value=0)\n",
      "                 angles  degrees\n",
      "    A circle        NaN      1.0\n",
      "      triangle      1.0      1.0\n",
      "      rectangle     1.0      1.0\n",
      "    B square        0.0      0.0\n",
      "      pentagon      0.0      0.0\n",
      "      hexagon       0.0      0.0\n",
      "\n",
      "Help on method insert in module pandas.core.frame:\n",
      "\n",
      "insert(loc: 'int', column: 'Hashable', value: 'Scalar | AnyArrayLike', allow_duplicates: 'bool | lib.NoDefault' = <no_default>) -> 'None' method of pandas.core.frame.DataFrame instance\n",
      "    Insert column into DataFrame at specified location.\n",
      "    \n",
      "    Raises a ValueError if `column` is already contained in the DataFrame,\n",
      "    unless `allow_duplicates` is set to True.\n",
      "    \n",
      "    Parameters\n",
      "    ----------\n",
      "    loc : int\n",
      "        Insertion index. Must verify 0 <= loc <= len(columns).\n",
      "    column : str, number, or hashable object\n",
      "        Label of the inserted column.\n",
      "    value : Scalar, Series, or array-like\n",
      "    allow_duplicates : bool, optional, default lib.no_default\n",
      "    \n",
      "    See Also\n",
      "    --------\n",
      "    Index.insert : Insert new item by index.\n",
      "    \n",
      "    Examples\n",
      "    --------\n",
      "    >>> df = pd.DataFrame({'col1': [1, 2], 'col2': [3, 4]})\n",
      "    >>> df\n",
      "       col1  col2\n",
      "    0     1     3\n",
      "    1     2     4\n",
      "    >>> df.insert(1, \"newcol\", [99, 99])\n",
      "    >>> df\n",
      "       col1  newcol  col2\n",
      "    0     1      99     3\n",
      "    1     2      99     4\n",
      "    >>> df.insert(0, \"col1\", [100, 100], allow_duplicates=True)\n",
      "    >>> df\n",
      "       col1  col1  newcol  col2\n",
      "    0   100     1      99     3\n",
      "    1   100     2      99     4\n",
      "    \n",
      "    Notice that pandas uses index alignment in case of `value` from type `Series`:\n",
      "    \n",
      "    >>> df.insert(0, \"col0\", pd.Series([5, 6], index=[1, 2]))\n",
      "    >>> df\n",
      "       col0  col1  col1  newcol  col2\n",
      "    0   NaN   100     1      99     3\n",
      "    1   5.0   100     2      99     4\n",
      "\n"
     ]
    },
    {
     "data": {
      "text/plain": [
       "Name    Ruud\n",
       "Age     None\n",
       "Sex     male\n",
       "Name: -5, dtype: object"
      ]
     },
     "execution_count": 11,
     "metadata": {},
     "output_type": "execute_result"
    }
   ],
   "source": [
    "# Een rij toevoegen\n",
    "help(df.add)\n",
    "help(df.insert)\n",
    "df.loc[3] = ['M. Rotsaert',46, 'male']\n",
    "df.loc[-1] = ['J. Deugd',55, 'male']\n",
    "df.loc[-5] = ['Ruud',None, 'male']\n",
    "df.iloc[-1]\n",
    "# ..."
   ]
  },
  {
   "cell_type": "code",
   "execution_count": 12,
   "id": "dbc501e9",
   "metadata": {},
   "outputs": [],
   "source": [
    "# Functie insertAt(row, index)\n",
    "\n",
    "def insert_at(df,row,index):\n",
    "    df.loc[index+0.5]=row\n",
    "    df = df.sort_index().reset_index(drop=True)\n",
    "    return df\n",
    "# ...\n",
    "\n",
    "\n",
    "# Testen\n",
    "ind = -50\n",
    "row = ['Pieter',None, 'male']\n",
    "df=insert_at(df,row,ind)\n",
    "\n",
    "ind = 3\n",
    "row = ['Pieter',None, 'male']\n",
    "df=insert_at(df,row,ind)\n",
    "# ..."
   ]
  },
  {
   "cell_type": "code",
   "execution_count": 13,
   "id": "b21bab05",
   "metadata": {},
   "outputs": [
    {
     "name": "stdout",
     "output_type": "stream",
     "text": [
      "                      Name   Age   Sex\n",
      "0                   Pieter  None  male\n",
      "1                     Ruud  None  male\n",
      "2                 J. Deugd    55  male\n",
      "3  Braund, Mr. Owen Harris    22  male\n",
      "                       Name Age     Sex\n",
      "6  Bonnell, Miss. Elizabeth  58  female\n",
      "7               M. Rotsaert  46    male\n",
      "                       Name   Age     Sex\n",
      "0                    Pieter  None    male\n",
      "1                      Ruud  None    male\n",
      "2                  J. Deugd    55    male\n",
      "3           J van der Jeugd    56    male\n",
      "4                    Pieter  None    male\n",
      "5  Allen, Mr. William Henry    35    male\n",
      "6  Bonnell, Miss. Elizabeth    58  female\n",
      "7               M. Rotsaert    46    male\n"
     ]
    }
   ],
   "source": [
    "# Verkennen\n",
    "print(df.head(4))\n",
    "print(df.tail(2))\n",
    "get_row(df,3)\n",
    "\n",
    "df.loc[3,'Name']='J van der Jeugd'\n",
    "df.loc[3,'Age']=56\n",
    "print(df)"
   ]
  },
  {
   "cell_type": "code",
   "execution_count": 14,
   "id": "56e17006",
   "metadata": {},
   "outputs": [
    {
     "name": "stdout",
     "output_type": "stream",
     "text": [
      "0     True\n",
      "1     True\n",
      "2     True\n",
      "3     True\n",
      "4     True\n",
      "5     True\n",
      "6    False\n",
      "7     True\n",
      "Name: Sex, dtype: bool\n",
      "                       Name   Age   Sex\n",
      "0                    Pieter  None  male\n",
      "1                      Ruud  None  male\n",
      "2                  J. Deugd    55  male\n",
      "3           J van der Jeugd    56  male\n",
      "4                    Pieter  None  male\n",
      "5  Allen, Mr. William Henry    35  male\n",
      "7               M. Rotsaert    46  male\n",
      "moet op een andere manier!!!\n",
      "0    False\n",
      "1    False\n",
      "2    False\n",
      "3    False\n",
      "4    False\n",
      "5     True\n",
      "6    False\n",
      "7    False\n",
      "dtype: bool\n",
      "                       Name Age   Sex\n",
      "5  Allen, Mr. William Henry  35  male\n"
     ]
    }
   ],
   "source": [
    "# Filteren\n",
    "print(df['Sex']=='male')\n",
    "print(df[df['Sex']=='male'])\n",
    "df.keys()\n",
    "try:\n",
    "    filt = (df['Age']<40) and (df['Sex']=='male')\n",
    "except:\n",
    "    print('moet op een andere manier!!!')\n",
    "    filt = (df['Age']<40) & (df['Sex']=='male') # bit operator\n",
    "print(filt)\n",
    "print(df[filt])\n",
    "# ..."
   ]
  },
  {
   "cell_type": "code",
   "execution_count": 15,
   "id": "39cd6d20",
   "metadata": {},
   "outputs": [
    {
     "data": {
      "text/html": [
       "<div>\n",
       "<style scoped>\n",
       "    .dataframe tbody tr th:only-of-type {\n",
       "        vertical-align: middle;\n",
       "    }\n",
       "\n",
       "    .dataframe tbody tr th {\n",
       "        vertical-align: top;\n",
       "    }\n",
       "\n",
       "    .dataframe thead th {\n",
       "        text-align: right;\n",
       "    }\n",
       "</style>\n",
       "<table border=\"1\" class=\"dataframe\">\n",
       "  <thead>\n",
       "    <tr style=\"text-align: right;\">\n",
       "      <th></th>\n",
       "      <th></th>\n",
       "      <th>Name</th>\n",
       "      <th>Age</th>\n",
       "      <th>Sex</th>\n",
       "    </tr>\n",
       "    <tr>\n",
       "      <th>Sex</th>\n",
       "      <th></th>\n",
       "      <th></th>\n",
       "      <th></th>\n",
       "      <th></th>\n",
       "    </tr>\n",
       "  </thead>\n",
       "  <tbody>\n",
       "    <tr>\n",
       "      <th>female</th>\n",
       "      <th>6</th>\n",
       "      <td>Bonnell, Miss. Elizabeth</td>\n",
       "      <td>58</td>\n",
       "      <td>female</td>\n",
       "    </tr>\n",
       "    <tr>\n",
       "      <th rowspan=\"7\" valign=\"top\">male</th>\n",
       "      <th>0</th>\n",
       "      <td>Pieter</td>\n",
       "      <td>None</td>\n",
       "      <td>male</td>\n",
       "    </tr>\n",
       "    <tr>\n",
       "      <th>1</th>\n",
       "      <td>Ruud</td>\n",
       "      <td>None</td>\n",
       "      <td>male</td>\n",
       "    </tr>\n",
       "    <tr>\n",
       "      <th>2</th>\n",
       "      <td>J. Deugd</td>\n",
       "      <td>55</td>\n",
       "      <td>male</td>\n",
       "    </tr>\n",
       "    <tr>\n",
       "      <th>3</th>\n",
       "      <td>J van der Jeugd</td>\n",
       "      <td>56</td>\n",
       "      <td>male</td>\n",
       "    </tr>\n",
       "    <tr>\n",
       "      <th>4</th>\n",
       "      <td>Pieter</td>\n",
       "      <td>None</td>\n",
       "      <td>male</td>\n",
       "    </tr>\n",
       "    <tr>\n",
       "      <th>5</th>\n",
       "      <td>Allen, Mr. William Henry</td>\n",
       "      <td>35</td>\n",
       "      <td>male</td>\n",
       "    </tr>\n",
       "    <tr>\n",
       "      <th>7</th>\n",
       "      <td>M. Rotsaert</td>\n",
       "      <td>46</td>\n",
       "      <td>male</td>\n",
       "    </tr>\n",
       "  </tbody>\n",
       "</table>\n",
       "</div>"
      ],
      "text/plain": [
       "                              Name   Age     Sex\n",
       "Sex                                             \n",
       "female 6  Bonnell, Miss. Elizabeth    58  female\n",
       "male   0                    Pieter  None    male\n",
       "       1                      Ruud  None    male\n",
       "       2                  J. Deugd    55    male\n",
       "       3           J van der Jeugd    56    male\n",
       "       4                    Pieter  None    male\n",
       "       5  Allen, Mr. William Henry    35    male\n",
       "       7               M. Rotsaert    46    male"
      ]
     },
     "execution_count": 15,
     "metadata": {},
     "output_type": "execute_result"
    }
   ],
   "source": [
    "# Groeperen\n",
    "df.groupby('Sex',group_keys=True).apply(lambda x:x)\n",
    "\n",
    "# ..."
   ]
  },
  {
   "cell_type": "code",
   "execution_count": 16,
   "id": "5158b0b6",
   "metadata": {},
   "outputs": [
    {
     "name": "stdout",
     "output_type": "stream",
     "text": [
      "   Name   Age   Sex\n",
      "1  Ruud  None  male\n",
      "   Name   Age   Sex\n",
      "1  Ruud  None  male\n"
     ]
    }
   ],
   "source": [
    "# Extra: toepassing OOP en het bouwen van je eigen library\n",
    "\n",
    "\n",
    "#@classmethod\n",
    "class Mydataframe():\n",
    "    def __init__(self):\n",
    "        self.get_row = get_row\n",
    "        self.insert_at = insert_at\n",
    "\n",
    "mobj = Mydataframe()\n",
    "print(mobj.get_row(df,1))\n",
    "\n",
    "\n",
    "class Mydataframe2():\n",
    "    def __init__(self,df):\n",
    "        self.df = df\n",
    "        self.get_row = self._get_row\n",
    "        self.insert_at = insert_at\\\n",
    "\n",
    "    def _get_row(self,nr):\n",
    "        return(get_row(self.df,nr))\n",
    "\n",
    "mobj = Mydataframe2(df)\n",
    "mobj.df\n",
    "print(mobj.get_row(1))\n",
    "# ...\n",
    "\n",
    "\n",
    "        \n",
    "# Testen\n",
    "\n",
    "# ..."
   ]
  },
  {
   "cell_type": "code",
   "execution_count": 23,
   "id": "d48853bf",
   "metadata": {},
   "outputs": [
    {
     "ename": "",
     "evalue": "",
     "output_type": "error",
     "traceback": [
      "\u001b[1;31mCanceled future for execute_request message before replies were done"
     ]
    },
    {
     "ename": "",
     "evalue": "",
     "output_type": "error",
     "traceback": [
      "\u001b[1;31mThe Kernel crashed while executing code in the the current cell or a previous cell. Please review the code in the cell(s) to identify a possible cause of the failure. Click <a href='https://aka.ms/vscodeJupyterKernelCrash'>here</a> for more info. View Jupyter <a href='command:jupyter.viewOutput'>log</a> for further details."
     ]
    }
   ],
   "source": [
    "class extentdf(pd.DataFrame):\n",
    "    def __init__(self):\n",
    "        print('start')\n",
    "\n",
    "extentdf()\n"
   ]
  },
  {
   "cell_type": "code",
   "execution_count": 20,
   "id": "33756da2",
   "metadata": {},
   "outputs": [],
   "source": []
  },
  {
   "cell_type": "code",
   "execution_count": 21,
   "id": "735c6946",
   "metadata": {},
   "outputs": [
    {
     "data": {
      "text/plain": [
       "pandas.core.frame.DataFrame"
      ]
     },
     "execution_count": 21,
     "metadata": {},
     "output_type": "execute_result"
    }
   ],
   "source": []
  },
  {
   "cell_type": "code",
   "execution_count": 22,
   "id": "fcaf22ef",
   "metadata": {},
   "outputs": [
    {
     "data": {
      "text/plain": [
       "(0, 0)"
      ]
     },
     "execution_count": 22,
     "metadata": {},
     "output_type": "execute_result"
    }
   ],
   "source": []
  },
  {
   "cell_type": "code",
   "execution_count": null,
   "id": "6d20e964",
   "metadata": {},
   "outputs": [],
   "source": []
  }
 ],
 "metadata": {
  "kernelspec": {
   "display_name": "Python 3.10.8 ('env_miw3': venv)",
   "language": "python",
   "name": "python3"
  },
  "language_info": {
   "codemirror_mode": {
    "name": "ipython",
    "version": 3
   },
   "file_extension": ".py",
   "mimetype": "text/x-python",
   "name": "python",
   "nbconvert_exporter": "python",
   "pygments_lexer": "ipython3",
   "version": "3.10.8"
  },
  "vscode": {
   "interpreter": {
    "hash": "115a4c7b28485aecf009f5e2881761c97c7b5516f8f952b2e189f69ef60a25e3"
   }
  }
 },
 "nbformat": 4,
 "nbformat_minor": 5
}
