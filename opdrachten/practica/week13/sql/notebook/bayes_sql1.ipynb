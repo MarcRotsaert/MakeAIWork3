{
 "cells": [
  {
   "cell_type": "markdown",
   "id": "ce776e9e-e316-4a03-ad68-d9e0a090b894",
   "metadata": {},
   "source": [
    "<a href=\"https://it-omscholing.nl/locaties/hogeschool-rotterdam/\">\n",
    "<div>\n",
    "<a><img src='pics/banner.PNG'/></a>\n",
    "</div>\n",
    "<div>\n",
    "<a href=''><img src='pics/miw.PNG'/></a>\n",
    "<em>Author: Jeroen Boogaard</em>\n",
    "</div>\n",
    "</a>"
   ]
  },
  {
   "cell_type": "markdown",
   "id": "b57ce072-c647-44a4-8078-07045ee55df9",
   "metadata": {},
   "source": [
    "<h1>Practicum Basis Statistiek / SQL </h1>"
   ]
  },
  {
   "cell_type": "markdown",
   "id": "9f080c20-09e7-415e-b4b8-91b340464972",
   "metadata": {},
   "source": [
    "<h2>Imports<h2>"
   ]
  },
  {
   "cell_type": "code",
   "execution_count": 1,
   "id": "9c98afa3-7912-437a-9991-309e2b368a5b",
   "metadata": {},
   "outputs": [],
   "source": [
    "import os\n",
    "os.environ['export PYSPARK_DRIVER_PYTHON'] = 'jupyter'\n",
    "os.environ['PYSPARK_DRIVER_PYTHON_OPTS'] ='notebook'\n",
    "os.environ['PYARROW_IGNORE_TIMEZONE'] = '1'"
   ]
  },
  {
   "cell_type": "code",
   "execution_count": 2,
   "id": "fc9cc22c-9b16-4f97-be97-65fa68a4f5b6",
   "metadata": {},
   "outputs": [],
   "source": [
    "from matplotlib import pyplot as plt\n",
    "from matplotlib_venn import venn2, venn3\n",
    "from PIL import Image\n",
    "from pyspark import SparkContext as sc\n",
    "from pyspark.sql import SparkSession\n",
    "import pandas as pd\n",
    "import pyspark.pandas as ps\n",
    "import sqlite3"
   ]
  },
  {
   "cell_type": "markdown",
   "id": "206be2e2-1646-4b41-bc5d-e23ca9ce2199",
   "metadata": {},
   "source": [
    "<h2>Extract, Transform and Load</h2>"
   ]
  },
  {
   "cell_type": "markdown",
   "id": "27681fa7-135e-4301-9eb3-b0d945ca7f45",
   "metadata": {},
   "source": [
    "<h3>Extract</h3>"
   ]
  },
  {
   "cell_type": "code",
   "execution_count": 3,
   "id": "3dc0221e-2539-46d5-9b46-f5031b987547",
   "metadata": {},
   "outputs": [
    {
     "name": "stdout",
     "output_type": "stream",
     "text": [
      "    zoom                    name  abbreviation Code  ISO numeric  \\\n",
      "0      3                 Ukraine          Ukr.  UKR          804   \n",
      "1      3                  France           Fr.  FRA          250   \n",
      "2      3                   Spain         Spain  ESP          724   \n",
      "3      3                  Sweden          Swe.  SWE          752   \n",
      "4      3                 Germany          Ger.  DEU          276   \n",
      "5      3                 Finland          Fin.  FIN          246   \n",
      "6      3                  Norway          Nor.  NOR          578   \n",
      "7      3                  Poland          Pol.  POL          616   \n",
      "8      3                   Italy         Italy  ITA          380   \n",
      "9      3          United Kingdom          U.K.  GBR          826   \n",
      "10     3                 Romania          Rom.  ROU          642   \n",
      "11     3                 Belarus         Bela.  BLR          112   \n",
      "12     3                  Greece          Grc.  GRC          300   \n",
      "13     3                Bulgaria          Blg.  BGR          100   \n",
      "14     3                 Iceland          Ice.  ISL          352   \n",
      "15     3                Portugal         Port.  PRT          620   \n",
      "16     3          Czech Republic    Czech Rep.  CZE          203   \n",
      "17     3                 Denmark          Den.  DNK          208   \n",
      "18     4                 Hungary         Hung.  HUN          348   \n",
      "19     4                  Serbia         Serb.  SRB          688   \n",
      "20     4                 Austria          Aus.  AUT           40   \n",
      "21     4                 Ireland          Ire.  IRL          372   \n",
      "22     4               Lithuania         Lith.  LTU          440   \n",
      "23     4                  Latvia          Lat.  LVA          428   \n",
      "24     4                 Croatia          Cro.  HRV          191   \n",
      "25     4  Bosnia and Herzegovina          Bos.  BIH           70   \n",
      "26     4                Slovakia         Slvk.  SVK          703   \n",
      "27     4                 Estonia          Est.  EST          233   \n",
      "28     4             Netherlands         Neth.  NLD          528   \n",
      "29     4             Switzerland        Switz.  CHE          756   \n",
      "30     4                 Moldova          Mol.  MDA          498   \n",
      "31     4                 Belgium          Bel.  BEL           56   \n",
      "32     4                 Albania          Alb.  ALB            8   \n",
      "33     4               Macedonia          Mac.  MKD          807   \n",
      "34     4                Slovenia         Slvn.  SVN          705   \n",
      "35     4              Montenegro         Mont.  MNE          499   \n",
      "36     4                  Cyprus          Cyp.  CYP          196   \n",
      "37     4              Luxembourg          Lux.  LUX          442   \n",
      "38     4               Faroe Is.      Far. Is.  FRO          234   \n",
      "39     4                 Andorra          And.  AND           20   \n",
      "40     4                   Malta         Malta  MLT          470   \n",
      "41     4           Liechtenstein        Liech.  LIE          438   \n",
      "42     4                Guernsey        Guern.  GGY          831   \n",
      "43     4              San Marino       S. Mar.  SMR          674   \n",
      "44     4               Gibraltar          Gib.  GIB          292   \n",
      "45     4                  Monaco        Monaco  MCO          492   \n",
      "46     4            Vatican City  Vatican City  VAT          336   \n",
      "\n",
      "    land area km  population  latitude  longitude continent  \n",
      "0       603700.0    45415596     49.00      32.00        eu  \n",
      "1       547030.0    64768389     46.00       2.00        eu  \n",
      "2       504782.0    46505963     40.00      -4.00        eu  \n",
      "3       449964.0     9045000     62.00      15.00        eu  \n",
      "4       357021.0    82369000     51.50      10.50        eu  \n",
      "5       337030.0     5244000     64.00      26.00        eu  \n",
      "6       324220.0     4907000     62.00      10.00        eu  \n",
      "7       312685.0    38500000     52.00      20.00        eu  \n",
      "8       301230.0    58145000     42.83      12.83        eu  \n",
      "9       244820.0    62348447     54.90      -3.12        eu  \n",
      "10      237500.0    21959278     46.00      25.00        eu  \n",
      "11      207600.0     9685000     53.00      28.00        eu  \n",
      "12      131940.0    11000000     39.00      22.00        eu  \n",
      "13      110910.0     7148785     43.00      25.00        eu  \n",
      "14      103000.0      308910     65.00     -18.00        eu  \n",
      "15       92391.0    10676000     39.50      -8.00        eu  \n",
      "16       78866.0    10476000     49.75      15.00        eu  \n",
      "17       43094.0     5484000     56.00      10.00        eu  \n",
      "18       93030.0     9930000     47.00      20.00        eu  \n",
      "19       88361.0     7344847     44.82      20.46        eu  \n",
      "20       83858.0     8205000     47.33      13.33        eu  \n",
      "21       70280.0     4622917     53.00      -8.00        eu  \n",
      "22       65200.0     3565000     56.00      24.00        eu  \n",
      "23       64589.0     2217969     57.00      25.00        eu  \n",
      "24       56542.0     4491000     45.17      15.50        eu  \n",
      "25       51129.0     4590000     44.25      17.83        eu  \n",
      "26       48845.0     5455000     48.67      19.50        eu  \n",
      "27       45226.0     1291170     59.00      26.00        eu  \n",
      "28       41526.0    16645000     52.50       5.75        eu  \n",
      "29       41290.0     7581000     47.00       8.01        eu  \n",
      "30       33843.0     4324000     47.00      29.00        eu  \n",
      "31       30510.0    10403000     50.83       4.00        eu  \n",
      "32       28748.0     2986952     41.00      20.00        eu  \n",
      "33       25333.0     2061000     41.83      22.00        eu  \n",
      "34       20273.0     2007000     46.25      15.17        eu  \n",
      "35       14026.0      666730     43.50      19.30        eu  \n",
      "36        9250.0     1102677     35.00      33.00      asia  \n",
      "37        2586.0      497538     49.75       6.17        eu  \n",
      "38        1399.0       48228     62.00      -7.00        eu  \n",
      "39         468.0       84000     42.50       1.50        eu  \n",
      "40         316.0      403000     35.92      14.43        eu  \n",
      "41         160.0       35000     47.17       9.53        eu  \n",
      "42          78.0       65228     49.58      -2.33        eu  \n",
      "43          61.2       31477     43.93      12.42        eu  \n",
      "44           6.5       27884     36.13      -5.35        eu  \n",
      "45           2.0       32965     43.73       7.42        eu  \n",
      "46           0.4         921     41.90      12.45        eu  \n"
     ]
    }
   ],
   "source": [
    "# https://raw.githubusercontent.com/ajturner/acetate/master/places/Countries-Europe.csv\n",
    "eurCsvFile = \"../csv/countries_europe.csv\"\n",
    "euCsvFile = \"../csv/european_union.csv\"\n",
    "\n",
    " # Create Pandas DataFrames\n",
    "eurDF = pd.read_csv(eurCsvFile)\n",
    "euDF = pd.read_csv(euCsvFile)\n",
    "print(eurDF)\n",
    "# print(euDF)"
   ]
  },
  {
   "cell_type": "markdown",
   "id": "620dd73e-33e6-42b4-89aa-c80a12833ad1",
   "metadata": {},
   "source": [
    "<h3>Transform</h3>"
   ]
  },
  {
   "cell_type": "markdown",
   "id": "184e4908-ac20-4417-8a04-60d0a2a80f44",
   "metadata": {},
   "source": [
    "<h3>Exercise 1</h3>\n",
    "<h4>Gegeven</h4>"
   ]
  },
  {
   "cell_type": "code",
   "execution_count": 4,
   "id": "649e4d4f-bcf5-40ad-9f58-55a1481b9d8d",
   "metadata": {},
   "outputs": [],
   "source": [
    "benelux = {\"Belgium\", \"The Netherlands\", \"Luxembourg\"}\n",
    "nordics = {\"Denmark\", \"Finland\", \"Iceland\", \"Norway\"} #Zweden hoort blijkbaar niet bij?\n",
    "baltics = {\"Estonia\", \"Latvia\", \"Lithuania\"}"
   ]
  },
  {
   "cell_type": "markdown",
   "id": "cefd609d-415b-40ce-9aa8-56cf98e386ab",
   "metadata": {},
   "source": [
    "<h4>Gevraagd</h4>\n",
    "<ol>\n",
    "    <li>Voeg de kolom <u>group</u> toe aan de dataset <u>eurDF</u> met daarin de groep waartoe een land behoort volgens bovenstaande sets</li>\n",
    "    <li>Ga na of er nog meer landengroepen zijn binnen Europa en voeg die ook toe</li>\n",
    "    <li>Sla deze verrijkte dataset op in een nieuw CSV bestand</li>\n",
    "</ol>"
   ]
  },
  {
   "cell_type": "markdown",
   "id": "950cd16a-4697-4e10-9a29-34e54145de68",
   "metadata": {},
   "source": [
    "<h4>Oplossing</h4>"
   ]
  },
  {
   "cell_type": "code",
   "execution_count": 5,
   "id": "bc338639",
   "metadata": {
    "collapsed": true,
    "jupyter": {
     "outputs_hidden": true
    },
    "tags": []
   },
   "outputs": [
    {
     "name": "stdout",
     "output_type": "stream",
     "text": [
      "    zoom                    name  abbreviation Code  ISO numeric  \\\n",
      "0      3                 Ukraine          Ukr.  UKR          804   \n",
      "1      3                  France           Fr.  FRA          250   \n",
      "2      3                   Spain         Spain  ESP          724   \n",
      "3      3                  Sweden          Swe.  SWE          752   \n",
      "4      3                 Germany          Ger.  DEU          276   \n",
      "5      3                 Finland          Fin.  FIN          246   \n",
      "6      3                  Norway          Nor.  NOR          578   \n",
      "7      3                  Poland          Pol.  POL          616   \n",
      "8      3                   Italy         Italy  ITA          380   \n",
      "9      3          United Kingdom          U.K.  GBR          826   \n",
      "10     3                 Romania          Rom.  ROU          642   \n",
      "11     3                 Belarus         Bela.  BLR          112   \n",
      "12     3                  Greece          Grc.  GRC          300   \n",
      "13     3                Bulgaria          Blg.  BGR          100   \n",
      "14     3                 Iceland          Ice.  ISL          352   \n",
      "15     3                Portugal         Port.  PRT          620   \n",
      "16     3          Czech Republic    Czech Rep.  CZE          203   \n",
      "17     3                 Denmark          Den.  DNK          208   \n",
      "18     4                 Hungary         Hung.  HUN          348   \n",
      "19     4                  Serbia         Serb.  SRB          688   \n",
      "20     4                 Austria          Aus.  AUT           40   \n",
      "21     4                 Ireland          Ire.  IRL          372   \n",
      "22     4               Lithuania         Lith.  LTU          440   \n",
      "23     4                  Latvia          Lat.  LVA          428   \n",
      "24     4                 Croatia          Cro.  HRV          191   \n",
      "25     4  Bosnia and Herzegovina          Bos.  BIH           70   \n",
      "26     4                Slovakia         Slvk.  SVK          703   \n",
      "27     4                 Estonia          Est.  EST          233   \n",
      "28     4             Netherlands         Neth.  NLD          528   \n",
      "29     4             Switzerland        Switz.  CHE          756   \n",
      "30     4                 Moldova          Mol.  MDA          498   \n",
      "31     4                 Belgium          Bel.  BEL           56   \n",
      "32     4                 Albania          Alb.  ALB            8   \n",
      "33     4               Macedonia          Mac.  MKD          807   \n",
      "34     4                Slovenia         Slvn.  SVN          705   \n",
      "35     4              Montenegro         Mont.  MNE          499   \n",
      "36     4                  Cyprus          Cyp.  CYP          196   \n",
      "37     4              Luxembourg          Lux.  LUX          442   \n",
      "38     4               Faroe Is.      Far. Is.  FRO          234   \n",
      "39     4                 Andorra          And.  AND           20   \n",
      "40     4                   Malta         Malta  MLT          470   \n",
      "41     4           Liechtenstein        Liech.  LIE          438   \n",
      "42     4                Guernsey        Guern.  GGY          831   \n",
      "43     4              San Marino       S. Mar.  SMR          674   \n",
      "44     4               Gibraltar          Gib.  GIB          292   \n",
      "45     4                  Monaco        Monaco  MCO          492   \n",
      "46     4            Vatican City  Vatican City  VAT          336   \n",
      "\n",
      "    land area km  population  latitude  longitude continent vereniging  \n",
      "0       603700.0    45415596     49.00      32.00        eu             \n",
      "1       547030.0    64768389     46.00       2.00        eu             \n",
      "2       504782.0    46505963     40.00      -4.00        eu             \n",
      "3       449964.0     9045000     62.00      15.00        eu             \n",
      "4       357021.0    82369000     51.50      10.50        eu             \n",
      "5       337030.0     5244000     64.00      26.00        eu    nordics  \n",
      "6       324220.0     4907000     62.00      10.00        eu    nordics  \n",
      "7       312685.0    38500000     52.00      20.00        eu             \n",
      "8       301230.0    58145000     42.83      12.83        eu             \n",
      "9       244820.0    62348447     54.90      -3.12        eu             \n",
      "10      237500.0    21959278     46.00      25.00        eu             \n",
      "11      207600.0     9685000     53.00      28.00        eu             \n",
      "12      131940.0    11000000     39.00      22.00        eu             \n",
      "13      110910.0     7148785     43.00      25.00        eu             \n",
      "14      103000.0      308910     65.00     -18.00        eu    nordics  \n",
      "15       92391.0    10676000     39.50      -8.00        eu             \n",
      "16       78866.0    10476000     49.75      15.00        eu             \n",
      "17       43094.0     5484000     56.00      10.00        eu    nordics  \n",
      "18       93030.0     9930000     47.00      20.00        eu             \n",
      "19       88361.0     7344847     44.82      20.46        eu             \n",
      "20       83858.0     8205000     47.33      13.33        eu             \n",
      "21       70280.0     4622917     53.00      -8.00        eu             \n",
      "22       65200.0     3565000     56.00      24.00        eu    baltics  \n",
      "23       64589.0     2217969     57.00      25.00        eu    baltics  \n",
      "24       56542.0     4491000     45.17      15.50        eu             \n",
      "25       51129.0     4590000     44.25      17.83        eu             \n",
      "26       48845.0     5455000     48.67      19.50        eu             \n",
      "27       45226.0     1291170     59.00      26.00        eu    baltics  \n",
      "28       41526.0    16645000     52.50       5.75        eu             \n",
      "29       41290.0     7581000     47.00       8.01        eu             \n",
      "30       33843.0     4324000     47.00      29.00        eu             \n",
      "31       30510.0    10403000     50.83       4.00        eu    benelux  \n",
      "32       28748.0     2986952     41.00      20.00        eu             \n",
      "33       25333.0     2061000     41.83      22.00        eu             \n",
      "34       20273.0     2007000     46.25      15.17        eu             \n",
      "35       14026.0      666730     43.50      19.30        eu             \n",
      "36        9250.0     1102677     35.00      33.00      asia             \n",
      "37        2586.0      497538     49.75       6.17        eu    benelux  \n",
      "38        1399.0       48228     62.00      -7.00        eu             \n",
      "39         468.0       84000     42.50       1.50        eu             \n",
      "40         316.0      403000     35.92      14.43        eu             \n",
      "41         160.0       35000     47.17       9.53        eu             \n",
      "42          78.0       65228     49.58      -2.33        eu             \n",
      "43          61.2       31477     43.93      12.42        eu             \n",
      "44           6.5       27884     36.13      -5.35        eu             \n",
      "45           2.0       32965     43.73       7.42        eu             \n",
      "46           0.4         921     41.90      12.45        eu             \n"
     ]
    }
   ],
   "source": [
    "# Oplossing\n",
    "import numpy as np\n",
    "#maken van extra kolom\n",
    "eurDF['vereniging']=''\n",
    "\n",
    "for land in benelux:\n",
    "    eurDF.loc[eurDF['name']==land,'vereniging']= 'benelux'\n",
    "for land in nordics:\n",
    "    eurDF.loc[eurDF['name']==land,'vereniging']= 'nordics'\n",
    "for land in baltics:\n",
    "    eurDF.loc[eurDF['name']==land,'vereniging']= 'baltics'\n",
    "\n",
    "print(eurDF)\n",
    "\n",
    "\n",
    "\n",
    "#print(eurDF.keys())\n",
    "#eurDF.name =='Belgium'.index(True)\n",
    "#regionstr in ['benelux','nordics','baltics']:\n",
    "#    regmem= eval(a) \n",
    "    "
   ]
  },
  {
   "cell_type": "code",
   "execution_count": 6,
   "id": "53b02739-f585-4a33-b4b0-dcf06bf6a1c9",
   "metadata": {},
   "outputs": [],
   "source": [
    "#eurDF"
   ]
  },
  {
   "cell_type": "markdown",
   "id": "0f9da3e1-33b8-4bf5-a862-fafe3b88b5e0",
   "metadata": {},
   "source": [
    "<h2>SQLite</h2>"
   ]
  },
  {
   "cell_type": "markdown",
   "id": "3915f0da-d771-4470-93e7-8b0337b472af",
   "metadata": {},
   "source": [
    "<h3>Load</h3>"
   ]
  },
  {
   "cell_type": "markdown",
   "id": "c50ff7d2-c034-43fd-b19d-24a3f4d1513f",
   "metadata": {},
   "source": [
    "<p>Maak een lege database</p>"
   ]
  },
  {
   "cell_type": "code",
   "execution_count": 7,
   "id": "a2d3575c-af21-4bb5-8585-6da463a42fdf",
   "metadata": {},
   "outputs": [],
   "source": [
    "#onderstaande regel hoeft niet.\n",
    "#!sqlite3 ../db/europe.db \"VACUUM;\""
   ]
  },
  {
   "cell_type": "code",
   "execution_count": 8,
   "id": "2e63c59f-e85b-41c7-87a5-b1973ffa5652",
   "metadata": {},
   "outputs": [],
   "source": [
    "# Connect to SQLite database\n",
    "dbConnection = sqlite3.connect('../db/europe.db')"
   ]
  },
  {
   "cell_type": "markdown",
   "id": "a851f75c-1b37-4bec-9f92-146f45457533",
   "metadata": {},
   "source": [
    "<p>Maak tabellen o.b.v. de dataset</p>"
   ]
  },
  {
   "cell_type": "code",
   "execution_count": 9,
   "id": "0372fa16-5ba5-4aac-874f-67566b093721",
   "metadata": {},
   "outputs": [
    {
     "data": {
      "text/plain": [
       "27"
      ]
     },
     "execution_count": 9,
     "metadata": {},
     "output_type": "execute_result"
    }
   ],
   "source": [
    "eurDF.to_sql('countries', dbConnection, if_exists='replace', index = False)\n",
    "euDF.to_sql('eu', dbConnection, if_exists='replace', index = False)\n",
    "#Twee databases toegevoegd aan db bestand. "
   ]
  },
  {
   "cell_type": "code",
   "execution_count": null,
   "id": "503bd199",
   "metadata": {},
   "outputs": [
    {
     "data": {
      "text/plain": [
       "True"
      ]
     },
     "execution_count": 278,
     "metadata": {},
     "output_type": "execute_result"
    }
   ],
   "source": [
    "os.path.exists('../db/europe.db')"
   ]
  },
  {
   "cell_type": "code",
   "execution_count": 10,
   "id": "5e61d66c-78ec-4798-87ec-16a553d286ae",
   "metadata": {},
   "outputs": [
    {
     "name": "stdout",
     "output_type": "stream",
     "text": [
      "[(3, 'France', 'Fr.', 'FRA', 250, 547030.0, 64768389, 46.0, 2.0, 'eu', '', 'FRA', 'France', '1958-01-01'), (3, 'Spain', 'Spain', 'ESP', 724, 504782.0, 46505963, 40.0, -4.0, 'eu', '', 'ESP', 'Spain', '1986-01-01'), (3, 'Sweden', 'Swe.', 'SWE', 752, 449964.0, 9045000, 62.0, 15.0, 'eu', '', 'SWE', 'Sweden', '1995-01-01'), (3, 'Germany', 'Ger.', 'DEU', 276, 357021.0, 82369000, 51.5, 10.5, 'eu', '', 'DEU', 'Germany', '1958-01-01'), (3, 'Finland', 'Fin.', 'FIN', 246, 337030.0, 5244000, 64.0, 26.0, 'eu', 'nordics', 'FIN', 'Finland', '1995-01-01'), (3, 'Poland', 'Pol.', 'POL', 616, 312685.0, 38500000, 52.0, 20.0, 'eu', '', 'POL', 'Poland', '2004-05-01'), (3, 'Italy', 'Italy', 'ITA', 380, 301230.0, 58145000, 42.83, 12.83, 'eu', '', 'ITA', 'Italy', '1958-01-01'), (3, 'Romania', 'Rom.', 'ROU', 642, 237500.0, 21959278, 46.0, 25.0, 'eu', '', 'ROU', 'Romania', '2007-01-01'), (3, 'Greece', 'Grc.', 'GRC', 300, 131940.0, 11000000, 39.0, 22.0, 'eu', '', 'GRC', 'Greece', '1981-01-01'), (3, 'Bulgaria', 'Blg.', 'BGR', 100, 110910.0, 7148785, 43.0, 25.0, 'eu', '', 'BGR', 'Bulgaria', '2007-01-01')]\n",
      "<class 'list'>\n"
     ]
    }
   ],
   "source": [
    "dbCursor = dbConnection.cursor()\n",
    "\n",
    "query = \"\"\"\n",
    "    SELECT *\n",
    "    FROM countries\n",
    "    INNER JOIN eu\n",
    "    ON countries.Code = eu.Code\n",
    "    LIMIT 10\n",
    "\"\"\"\n",
    "\n",
    "result = dbCursor.execute(query).fetchall()\n",
    "print(result)\n",
    "print(type(result))"
   ]
  },
  {
   "cell_type": "code",
   "execution_count": 11,
   "id": "504aeaf1",
   "metadata": {},
   "outputs": [
    {
     "name": "stdout",
     "output_type": "stream",
     "text": [
      "0     UKR\n",
      "1     FRA\n",
      "2     ESP\n",
      "3     SWE\n",
      "4     DEU\n",
      "5     FIN\n",
      "6     NOR\n",
      "7     POL\n",
      "8     ITA\n",
      "9     GBR\n",
      "10    ROU\n",
      "11    BLR\n",
      "12    GRC\n",
      "13    BGR\n",
      "14    ISL\n",
      "15    PRT\n",
      "16    CZE\n",
      "17    DNK\n",
      "18    HUN\n",
      "19    SRB\n",
      "20    AUT\n",
      "21    IRL\n",
      "22    LTU\n",
      "23    LVA\n",
      "24    HRV\n",
      "25    BIH\n",
      "26    SVK\n",
      "27    EST\n",
      "28    NLD\n",
      "29    CHE\n",
      "30    MDA\n",
      "31    BEL\n",
      "32    ALB\n",
      "33    MKD\n",
      "34    SVN\n",
      "35    MNE\n",
      "36    CYP\n",
      "37    LUX\n",
      "38    FRO\n",
      "39    AND\n",
      "40    MLT\n",
      "41    LIE\n",
      "42    GGY\n",
      "43    SMR\n",
      "44    GIB\n",
      "45    MCO\n",
      "46    VAT\n",
      "Name: Code, dtype: object\n",
      "France\n",
      "Spain\n",
      "Sweden\n",
      "Germany\n",
      "Finland\n",
      "Poland\n",
      "Italy\n",
      "Romania\n",
      "Greece\n",
      "Bulgaria\n"
     ]
    }
   ],
   "source": [
    "print(eurDF['Code'])\n",
    "len(result)\n",
    "for res in result:print(res[1])"
   ]
  },
  {
   "cell_type": "code",
   "execution_count": 12,
   "id": "6c752540-bcea-4137-a9d6-0e7e18b4fb9e",
   "metadata": {},
   "outputs": [],
   "source": [
    "# \n",
    "countriesQuery = \"\"\"\n",
    "    SELECT *\n",
    "    FROM countries\n",
    "    LIMIT 10\n",
    "\"\"\""
   ]
  },
  {
   "cell_type": "code",
   "execution_count": null,
   "id": "bc044c71-ee05-45b2-b200-9a06a98ed6dd",
   "metadata": {},
   "outputs": [
    {
     "name": "stdout",
     "output_type": "stream",
     "text": [
      "[(3, 'Ukraine', 'Ukr.', 'UKR', 804, 603700.0, 45415596, 49.0, 32.0, 'eu', ''), (3, 'France', 'Fr.', 'FRA', 250, 547030.0, 64768389, 46.0, 2.0, 'eu', ''), (3, 'Spain', 'Spain', 'ESP', 724, 504782.0, 46505963, 40.0, -4.0, 'eu', ''), (3, 'Sweden', 'Swe.', 'SWE', 752, 449964.0, 9045000, 62.0, 15.0, 'eu', ''), (3, 'Germany', 'Ger.', 'DEU', 276, 357021.0, 82369000, 51.5, 10.5, 'eu', ''), (3, 'Finland', 'Fin.', 'FIN', 246, 337030.0, 5244000, 64.0, 26.0, 'eu', 'nordics'), (3, 'Norway', 'Nor.', 'NOR', 578, 324220.0, 4907000, 62.0, 10.0, 'eu', 'nordics'), (3, 'Poland', 'Pol.', 'POL', 616, 312685.0, 38500000, 52.0, 20.0, 'eu', ''), (3, 'Italy', 'Italy', 'ITA', 380, 301230.0, 58145000, 42.83, 12.83, 'eu', ''), (3, 'United Kingdom', 'U.K.', 'GBR', 826, 244820.0, 62348447, 54.9, -3.12, 'eu', '')]\n"
     ]
    }
   ],
   "source": [
    "result = dbCursor.execute(countriesQuery).fetchall()\n",
    "print(result)"
   ]
  },
  {
   "cell_type": "markdown",
   "id": "7456c7a9-21d3-43a7-8762-5d6dd02b6add",
   "metadata": {},
   "source": [
    "<h2>Afhankelijke en onafhankelijke variabelen</h2>"
   ]
  },
  {
   "cell_type": "markdown",
   "id": "b924f686-642d-41a9-b61b-cb01c19bda29",
   "metadata": {},
   "source": [
    "<h3>Overlappende uitkomsten</h3>"
   ]
  },
  {
   "cell_type": "code",
   "execution_count": 13,
   "id": "4e029cc4-5080-4cf7-a8f1-c609b3357ebd",
   "metadata": {},
   "outputs": [],
   "source": [
    "eu = {\"Austria\", \"Belgium\", \"Bulgaria\", \"Croatia\", \"Cyprus\", \"Czechia\", \"Denmark\", \"Estonia\", \"Finland\", \"France\", \"Germany\", \"Greece\", \"Hungary\", \"Ireland\", \"Italy\", \"Latvia\", \"Lithuania\", \"Luxembourg\", \"Malta\", \"The Netherlands\", \"Poland\", \"Portugal\", \"Romania\", \"Slovakia\", \"Slovenia\", \"Spain\", \"Sweden\"}"
   ]
  },
  {
   "cell_type": "code",
   "execution_count": 14,
   "id": "e5db0cea-3fe2-4e22-b6d1-f511e4a7bc99",
   "metadata": {},
   "outputs": [
    {
     "data": {
      "text/plain": [
       "<matplotlib_venn._common.VennDiagram at 0x236e8b19b70>"
      ]
     },
     "execution_count": 14,
     "metadata": {},
     "output_type": "execute_result"
    },
    {
     "data": {
      "image/png": "[encoded data removed]",
      "text/plain": [
       "<Figure size 640x480 with 1 Axes>"
      ]
     },
     "metadata": {},
     "output_type": "display_data"
    }
   ],
   "source": [
    "venn3([benelux, baltics, eu], ('Benelux', 'Baltics', 'EU'))"
   ]
  },
  {
   "cell_type": "markdown",
   "id": "2a6640a3-38f5-4561-a6f1-3a4b26e2f39c",
   "metadata": {},
   "source": [
    "<h3>Exercise 2</h3>\n",
    "<p>\n",
    "    Gebruik SQL queries voor het verkrijgen van\n",
    "<ol>\n",
    "    <li>P(Nordics); de kans dat een land onderdeel is van de Nordics</li>\n",
    "    <li><u>P(EU)</u>; de kans dat een Europees land lid is van de Europese Unie</li>\n",
    "    <li><u>P(EU and Nordics)</u>; de kans dat een land onderdeel is van de Norics en lid is van de EU</li>\n",
    "</ol>\n",
    "</p>"
   ]
  },
  {
   "cell_type": "markdown",
   "id": "294fe32e",
   "metadata": {},
   "source": [
    "SQL spielerei"
   ]
  },
  {
   "cell_type": "code",
   "execution_count": 15,
   "id": "c2e9b682",
   "metadata": {},
   "outputs": [
    {
     "name": "stdout",
     "output_type": "stream",
     "text": [
      "beschikbare tabellen\n",
      "[('countries',), ('eu',)]\n",
      "info oekraine\n",
      "[(3, 'Ukraine', 'Ukr.', 'UKR', 804, 603700.0, 45415596, 49.0, 32.0, 'eu', '')]\n",
      "beschikbare kolommen in een tabel\n",
      "[('CREATE TABLE \"countries\" (\\n\"zoom\" INTEGER,\\n  \"name\" TEXT,\\n  \"abbreviation\" TEXT,\\n  \"Code\" TEXT,\\n  \"ISO numeric\" INTEGER,\\n  \"land area km\" REAL,\\n  \"population\" INTEGER,\\n  \"latitude\" REAL,\\n  \"longitude\" REAL,\\n  \"continent\" TEXT,\\n  \"vereniging\" TEXT\\n)',)]\n",
      "[('LTU',), ('LVA',), ('EST',)]\n"
     ]
    }
   ],
   "source": [
    "\n",
    "query = \"\"\"\n",
    "    SELECT *\n",
    "    FROM countries as c\n",
    "    WHERE c = 1\n",
    "\"\"\"\n",
    "\n",
    "query = \"\"\"\n",
    "    SELECT vereniging\n",
    "    FROM countries as c\n",
    "    WHERE c.Code > 10\n",
    "\"\"\"\n",
    "#hieronder sql commando om de beschikbare tabellen in de db op te halen\n",
    "#  \n",
    "query = \"\"\"\n",
    "SELECT name FROM sqlite_master WHERE type='table';\n",
    "\"\"\"\n",
    "result = dbCursor.execute(query).fetchall()\n",
    "print('beschikbare tabellen')\n",
    "print(result)\n",
    "\n",
    "#\n",
    "print('info oekraine')\n",
    "query = \"\"\"\n",
    "SELECT * FROM countries WHERE name = 'Ukraine';\n",
    "\"\"\"\n",
    "result = dbCursor.execute(query).fetchall()\n",
    "print(result)\n",
    "\n",
    "#\n",
    "print('beschikbare kolommen in een tabel')\n",
    "query = \"\"\"\n",
    "SELECT sql FROM sqlite_master\n",
    "WHERE tbl_name = 'countries' AND type = 'table'\n",
    "\"\"\"\n",
    "result = dbCursor.execute(query).fetchall()\n",
    "print(result)\n",
    "\n",
    "query = \"\"\"\n",
    "SELECT c.Code FROM countries as c\n",
    "WHERE vereniging='baltics'\n",
    "\"\"\"\n",
    "result = dbCursor.execute(query).fetchall()\n",
    "print(result)\n",
    "\n"
   ]
  },
  {
   "cell_type": "markdown",
   "id": "73400525",
   "metadata": {},
   "source": [
    " <li>P(Nordics); de kans dat een land onderdeel is van de Nordics</li>"
   ]
  },
  {
   "cell_type": "code",
   "execution_count": 16,
   "id": "442fb48b",
   "metadata": {},
   "outputs": [
    {
     "name": "stdout",
     "output_type": "stream",
     "text": [
      "3\n",
      "47\n",
      "6.382978723404255\n",
      "chance of nordic 6.38%\n"
     ]
    }
   ],
   "source": [
    "query = \"\"\"\n",
    "SELECT c.Code FROM countries as c\n",
    "WHERE vereniging='baltics'\n",
    "\"\"\"\n",
    "result_nord = dbCursor.execute(query).fetchall()\n",
    "print(len(result))\n",
    "\n",
    "query = \"\"\"\n",
    "SELECT * FROM countries \n",
    "\"\"\"\n",
    "result_all = dbCursor.execute(query).fetchall()\n",
    "print(len(result_all))\n",
    "\n",
    "\n",
    "print((100*len(result)/len(result_all)))\n",
    "Pnordics= print(f'chance of nordic {round(100*len(result)/len(result_all),2)}%')"
   ]
  },
  {
   "cell_type": "markdown",
   "id": "a3f440fb",
   "metadata": {},
   "source": [
    "<li><u>P(EU)</u>; de kans dat een Europees land lid is van de Europese Unie</li>"
   ]
  },
  {
   "cell_type": "code",
   "execution_count": 42,
   "id": "f4fecebe",
   "metadata": {},
   "outputs": [
    {
     "name": "stdout",
     "output_type": "stream",
     "text": [
      "[(3, 'France', 'Fr.', 'FRA', 250, 547030.0, 64768389, 46.0, 2.0, 'eu', '', 'FRA', 'France', '1958-01-01'), (3, 'Spain', 'Spain', 'ESP', 724, 504782.0, 46505963, 40.0, -4.0, 'eu', '', 'ESP', 'Spain', '1986-01-01'), (3, 'Sweden', 'Swe.', 'SWE', 752, 449964.0, 9045000, 62.0, 15.0, 'eu', '', 'SWE', 'Sweden', '1995-01-01'), (3, 'Germany', 'Ger.', 'DEU', 276, 357021.0, 82369000, 51.5, 10.5, 'eu', '', 'DEU', 'Germany', '1958-01-01'), (3, 'Finland', 'Fin.', 'FIN', 246, 337030.0, 5244000, 64.0, 26.0, 'eu', 'nordics', 'FIN', 'Finland', '1995-01-01'), (3, 'Poland', 'Pol.', 'POL', 616, 312685.0, 38500000, 52.0, 20.0, 'eu', '', 'POL', 'Poland', '2004-05-01'), (3, 'Italy', 'Italy', 'ITA', 380, 301230.0, 58145000, 42.83, 12.83, 'eu', '', 'ITA', 'Italy', '1958-01-01'), (3, 'Romania', 'Rom.', 'ROU', 642, 237500.0, 21959278, 46.0, 25.0, 'eu', '', 'ROU', 'Romania', '2007-01-01'), (3, 'Greece', 'Grc.', 'GRC', 300, 131940.0, 11000000, 39.0, 22.0, 'eu', '', 'GRC', 'Greece', '1981-01-01'), (3, 'Bulgaria', 'Blg.', 'BGR', 100, 110910.0, 7148785, 43.0, 25.0, 'eu', '', 'BGR', 'Bulgaria', '2007-01-01'), (3, 'Portugal', 'Port.', 'PRT', 620, 92391.0, 10676000, 39.5, -8.0, 'eu', '', 'PRT', 'Portugal', '1986-01-01'), (3, 'Czech Republic', 'Czech Rep.', 'CZE', 203, 78866.0, 10476000, 49.75, 15.0, 'eu', '', 'CZE', 'Czechia', '2004-05-01'), (3, 'Denmark', 'Den.', 'DNK', 208, 43094.0, 5484000, 56.0, 10.0, 'eu', 'nordics', 'DNK', 'Denmark', '1973-01-01'), (4, 'Hungary', 'Hung.', 'HUN', 348, 93030.0, 9930000, 47.0, 20.0, 'eu', '', 'HUN', 'Hungary', '2004-05-01'), (4, 'Austria', 'Aus.', 'AUT', 40, 83858.0, 8205000, 47.33, 13.33, 'eu', '', 'AUT', 'Austria', '1995-01-01'), (4, 'Ireland', 'Ire.', 'IRL', 372, 70280.0, 4622917, 53.0, -8.0, 'eu', '', 'IRL', 'Ireland', '1973-01-01'), (4, 'Lithuania', 'Lith.', 'LTU', 440, 65200.0, 3565000, 56.0, 24.0, 'eu', 'baltics', 'LTU', 'Lithuania', '2004-05-01'), (4, 'Latvia', 'Lat.', 'LVA', 428, 64589.0, 2217969, 57.0, 25.0, 'eu', 'baltics', 'LVA', 'Latvia', '2004-05-01'), (4, 'Croatia', 'Cro.', 'HRV', 191, 56542.0, 4491000, 45.17, 15.5, 'eu', '', 'HRV', 'Croatia', '2013-07-01'), (4, 'Slovakia', 'Slvk.', 'SVK', 703, 48845.0, 5455000, 48.67, 19.5, 'eu', '', 'SVK', 'Slovakia', '2004-05-01'), (4, 'Estonia', 'Est.', 'EST', 233, 45226.0, 1291170, 59.0, 26.0, 'eu', 'baltics', 'EST', 'Estonia', '2004-05-01'), (4, 'Netherlands', 'Neth.', 'NLD', 528, 41526.0, 16645000, 52.5, 5.75, 'eu', '', 'NLD', 'Netherlands', '1958-01-01'), (4, 'Belgium', 'Bel.', 'BEL', 56, 30510.0, 10403000, 50.83, 4.0, 'eu', 'benelux', 'BEL', 'Belgium', '1958-01-01'), (4, 'Slovenia', 'Slvn.', 'SVN', 705, 20273.0, 2007000, 46.25, 15.17, 'eu', '', 'SVN', 'Slovenia', '2004-05-01'), (4, 'Luxembourg', 'Lux.', 'LUX', 442, 2586.0, 497538, 49.75, 6.17, 'eu', 'benelux', 'LUX', 'Luxembourg', '1958-01-01'), (4, 'Malta', 'Malta', 'MLT', 470, 316.0, 403000, 35.92, 14.43, 'eu', '', 'MLT', 'Malta', '2004-05-01')]\n",
      "26\n",
      "chance of european country is part of the EU 55.32%\n"
     ]
    }
   ],
   "source": [
    "query = \"\"\"\n",
    "    SELECT *\n",
    "    FROM countries as c\n",
    "    INNER JOIN eu\n",
    "    ON c.Code = eu.Code\n",
    "    WHERE c.continent = 'eu'\n",
    "\"\"\"\n",
    "resulteu = dbCursor.execute(query).fetchall()\n",
    "print(resulteu)\n",
    "print(len(resulteu))\n",
    "\n",
    "query = \"\"\"\n",
    "    SELECT *\n",
    "    FROM countries as c\n",
    "\"\"\"\n",
    "result_all = dbCursor.execute(query).fetchall()\n",
    "\n",
    "\n",
    "Pcineu= print(f'chance of european country is part of the EU {round(100*len(resulteu)/len(result_all),2)}%')"
   ]
  },
  {
   "cell_type": "markdown",
   "id": "732ac1ac",
   "metadata": {},
   "source": [
    "Nog Meer Spielerei"
   ]
  },
  {
   "cell_type": "code",
   "execution_count": 19,
   "id": "ce0aaacc-9f2c-422c-a4c0-f39705eecf22",
   "metadata": {},
   "outputs": [
    {
     "name": "stdout",
     "output_type": "stream",
     "text": [
      "[(3, 'France', 'Fr.', 'FRA', 250, 547030.0, 64768389, 46.0, 2.0, 'eu', '', 'FRA', 'France', '1958-01-01'), (3, 'Spain', 'Spain', 'ESP', 724, 504782.0, 46505963, 40.0, -4.0, 'eu', '', 'ESP', 'Spain', '1986-01-01'), (3, 'Sweden', 'Swe.', 'SWE', 752, 449964.0, 9045000, 62.0, 15.0, 'eu', '', 'SWE', 'Sweden', '1995-01-01'), (3, 'Germany', 'Ger.', 'DEU', 276, 357021.0, 82369000, 51.5, 10.5, 'eu', '', 'DEU', 'Germany', '1958-01-01'), (3, 'Finland', 'Fin.', 'FIN', 246, 337030.0, 5244000, 64.0, 26.0, 'eu', 'nordics', 'FIN', 'Finland', '1995-01-01'), (3, 'Poland', 'Pol.', 'POL', 616, 312685.0, 38500000, 52.0, 20.0, 'eu', '', 'POL', 'Poland', '2004-05-01'), (3, 'Italy', 'Italy', 'ITA', 380, 301230.0, 58145000, 42.83, 12.83, 'eu', '', 'ITA', 'Italy', '1958-01-01'), (3, 'Romania', 'Rom.', 'ROU', 642, 237500.0, 21959278, 46.0, 25.0, 'eu', '', 'ROU', 'Romania', '2007-01-01'), (3, 'Greece', 'Grc.', 'GRC', 300, 131940.0, 11000000, 39.0, 22.0, 'eu', '', 'GRC', 'Greece', '1981-01-01'), (3, 'Bulgaria', 'Blg.', 'BGR', 100, 110910.0, 7148785, 43.0, 25.0, 'eu', '', 'BGR', 'Bulgaria', '2007-01-01'), (3, 'Portugal', 'Port.', 'PRT', 620, 92391.0, 10676000, 39.5, -8.0, 'eu', '', 'PRT', 'Portugal', '1986-01-01'), (3, 'Czech Republic', 'Czech Rep.', 'CZE', 203, 78866.0, 10476000, 49.75, 15.0, 'eu', '', 'CZE', 'Czechia', '2004-05-01'), (3, 'Denmark', 'Den.', 'DNK', 208, 43094.0, 5484000, 56.0, 10.0, 'eu', 'nordics', 'DNK', 'Denmark', '1973-01-01'), (4, 'Hungary', 'Hung.', 'HUN', 348, 93030.0, 9930000, 47.0, 20.0, 'eu', '', 'HUN', 'Hungary', '2004-05-01'), (4, 'Austria', 'Aus.', 'AUT', 40, 83858.0, 8205000, 47.33, 13.33, 'eu', '', 'AUT', 'Austria', '1995-01-01'), (4, 'Ireland', 'Ire.', 'IRL', 372, 70280.0, 4622917, 53.0, -8.0, 'eu', '', 'IRL', 'Ireland', '1973-01-01'), (4, 'Lithuania', 'Lith.', 'LTU', 440, 65200.0, 3565000, 56.0, 24.0, 'eu', 'baltics', 'LTU', 'Lithuania', '2004-05-01'), (4, 'Latvia', 'Lat.', 'LVA', 428, 64589.0, 2217969, 57.0, 25.0, 'eu', 'baltics', 'LVA', 'Latvia', '2004-05-01'), (4, 'Croatia', 'Cro.', 'HRV', 191, 56542.0, 4491000, 45.17, 15.5, 'eu', '', 'HRV', 'Croatia', '2013-07-01'), (4, 'Slovakia', 'Slvk.', 'SVK', 703, 48845.0, 5455000, 48.67, 19.5, 'eu', '', 'SVK', 'Slovakia', '2004-05-01'), (4, 'Estonia', 'Est.', 'EST', 233, 45226.0, 1291170, 59.0, 26.0, 'eu', 'baltics', 'EST', 'Estonia', '2004-05-01'), (4, 'Netherlands', 'Neth.', 'NLD', 528, 41526.0, 16645000, 52.5, 5.75, 'eu', '', 'NLD', 'Netherlands', '1958-01-01'), (4, 'Belgium', 'Bel.', 'BEL', 56, 30510.0, 10403000, 50.83, 4.0, 'eu', 'benelux', 'BEL', 'Belgium', '1958-01-01'), (4, 'Slovenia', 'Slvn.', 'SVN', 705, 20273.0, 2007000, 46.25, 15.17, 'eu', '', 'SVN', 'Slovenia', '2004-05-01'), (4, 'Cyprus', 'Cyp.', 'CYP', 196, 9250.0, 1102677, 35.0, 33.0, 'asia', '', 'CYP', 'Cyprus', '2004-05-01'), (4, 'Luxembourg', 'Lux.', 'LUX', 442, 2586.0, 497538, 49.75, 6.17, 'eu', 'benelux', 'LUX', 'Luxembourg', '1958-01-01'), (4, 'Malta', 'Malta', 'MLT', 470, 316.0, 403000, 35.92, 14.43, 'eu', '', 'MLT', 'Malta', '2004-05-01')]\n",
      "27\n",
      "[('AUT', 'Austria', '1995-01-01'), ('BEL', 'Belgium', '1958-01-01'), ('BGR', 'Bulgaria', '2007-01-01'), ('HRV', 'Croatia', '2013-07-01'), ('CYP', 'Cyprus', '2004-05-01'), ('CZE', 'Czechia', '2004-05-01'), ('DNK', 'Denmark', '1973-01-01'), ('EST', 'Estonia', '2004-05-01'), ('FIN', 'Finland', '1995-01-01'), ('FRA', 'France', '1958-01-01'), ('DEU', 'Germany', '1958-01-01'), ('GRC', 'Greece', '1981-01-01'), ('HUN', 'Hungary', '2004-05-01'), ('IRL', 'Ireland', '1973-01-01'), ('ITA', 'Italy', '1958-01-01'), ('LVA', 'Latvia', '2004-05-01'), ('LTU', 'Lithuania', '2004-05-01'), ('LUX', 'Luxembourg', '1958-01-01'), ('MLT', 'Malta', '2004-05-01'), ('NLD', 'Netherlands', '1958-01-01'), ('POL', 'Poland', '2004-05-01'), ('PRT', 'Portugal', '1986-01-01'), ('ROU', 'Romania', '2007-01-01'), ('SVK', 'Slovakia', '2004-05-01'), ('SVN', 'Slovenia', '2004-05-01'), ('ESP', 'Spain', '1986-01-01'), ('SWE', 'Sweden', '1995-01-01')]\n",
      "27\n",
      "47\n",
      "[(4, 'Cyprus', 'Cyp.', 'CYP', 196, 9250.0, 1102677, 35.0, 33.0, 'asia', '')]\n",
      "1\n"
     ]
    }
   ],
   "source": [
    "# Oplossing\n",
    "query = \"\"\"\n",
    "    SELECT *\n",
    "    FROM countries\n",
    "    INNER JOIN eu\n",
    "    ON countries.Code = eu.Code\n",
    "\"\"\"\n",
    "result = dbCursor.execute(query).fetchall()\n",
    "print(result)\n",
    "print(len(result))\n",
    "\n",
    "query = \"\"\"\n",
    "    SELECT *\n",
    "    FROM eu\n",
    "\"\"\"\n",
    "result = dbCursor.execute(query).fetchall()\n",
    "print(result)\n",
    "print(len(result))\n",
    "\n",
    "query = \"\"\"\n",
    "    SELECT *\n",
    "    FROM countries\n",
    "\"\"\"\n",
    "result = dbCursor.execute(query).fetchall()\n",
    "#print(result)\n",
    "print(len(result))\n",
    "\n",
    "query = \"\"\"\n",
    "    SELECT *\n",
    "    FROM countries\n",
    "    WHERE continent != 'eu'\n",
    "\n",
    "\"\"\"\n",
    "result = dbCursor.execute(query).fetchall()\n",
    "print(result)\n",
    "print(len(result))\n"
   ]
  },
  {
   "cell_type": "markdown",
   "id": "90f4ad3d",
   "metadata": {},
   "source": [
    "<li><u>P(EU and Nordics)</u>; de kans dat een land onderdeel is van de Norics en lid is van de EU</li>"
   ]
  },
  {
   "cell_type": "code",
   "execution_count": 53,
   "id": "083b5483",
   "metadata": {},
   "outputs": [
    {
     "name": "stdout",
     "output_type": "stream",
     "text": [
      "[('FIN',), ('DNK',)]\n",
      "2\n",
      "[('AUT', 'Austria', '1995-01-01'), ('BEL', 'Belgium', '1958-01-01'), ('BGR', 'Bulgaria', '2007-01-01'), ('HRV', 'Croatia', '2013-07-01'), ('CYP', 'Cyprus', '2004-05-01'), ('CZE', 'Czechia', '2004-05-01'), ('DNK', 'Denmark', '1973-01-01'), ('EST', 'Estonia', '2004-05-01'), ('FIN', 'Finland', '1995-01-01'), ('FRA', 'France', '1958-01-01'), ('DEU', 'Germany', '1958-01-01'), ('GRC', 'Greece', '1981-01-01'), ('HUN', 'Hungary', '2004-05-01'), ('IRL', 'Ireland', '1973-01-01'), ('ITA', 'Italy', '1958-01-01'), ('LVA', 'Latvia', '2004-05-01'), ('LTU', 'Lithuania', '2004-05-01'), ('LUX', 'Luxembourg', '1958-01-01'), ('MLT', 'Malta', '2004-05-01'), ('NLD', 'Netherlands', '1958-01-01'), ('POL', 'Poland', '2004-05-01'), ('PRT', 'Portugal', '1986-01-01'), ('ROU', 'Romania', '2007-01-01'), ('SVK', 'Slovakia', '2004-05-01'), ('SVN', 'Slovenia', '2004-05-01'), ('ESP', 'Spain', '1986-01-01'), ('SWE', 'Sweden', '1995-01-01')]\n",
      "27\n",
      "chance of EU country being part of both EU and nordics 4.26%\n"
     ]
    }
   ],
   "source": [
    "\n",
    "query = \"\"\"\n",
    "    SELECT countries.Code\n",
    "    FROM countries\n",
    "    INNER JOIN eu\n",
    "    ON countries.Code = eu.Code\n",
    "    WHERE vereniging = 'nordics'\n",
    "\"\"\"\n",
    "\n",
    "resultnord = dbCursor.execute(query).fetchall()\n",
    "print(resultnord)\n",
    "print(len(resultnord))\n",
    "\n",
    "query = \"\"\"\n",
    "    SELECT *\n",
    "    FROM eu\n",
    "\"\"\"\n",
    "resulteu = dbCursor.execute(query).fetchall()\n",
    "print(resulteu)\n",
    "print(len(resulteu))\n",
    "Pcineu= print(f'chance of EU country being part of both EU and nordics {round(100*len(resultnord)/len(result_all),2)}%')"
   ]
  },
  {
   "cell_type": "markdown",
   "id": "80f099e4",
   "metadata": {},
   "source": [
    "Extraatje"
   ]
  },
  {
   "cell_type": "code",
   "execution_count": 63,
   "id": "64e3fe15",
   "metadata": {},
   "outputs": [
    {
     "name": "stdout",
     "output_type": "stream",
     "text": [
      "beschikbare kolommen in een tabel\n",
      "[('CREATE TABLE \"eu\" (\\n\"Code\" TEXT,\\n  \"Name\" TEXT,\\n  \"MEMBERSINCE\" TEXT\\n)',)]\n",
      "1\n"
     ]
    },
    {
     "ename": "OperationalError",
     "evalue": "no such column: \"Member-Since\"",
     "output_type": "error",
     "traceback": [
      "\u001b[1;31m---------------------------------------------------------------------------\u001b[0m",
      "\u001b[1;31mOperationalError\u001b[0m                          Traceback (most recent call last)",
      "Cell \u001b[1;32mIn[63], line 16\u001b[0m\n\u001b[0;32m      9\u001b[0m \u001b[39mprint\u001b[39m(\u001b[39mlen\u001b[39m(result))\n\u001b[0;32m     12\u001b[0m query \u001b[39m=\u001b[39m \u001b[39m\"\"\"\u001b[39m\n\u001b[0;32m     13\u001b[0m \u001b[39m    ALTER TABLE eu\u001b[39m\n\u001b[0;32m     14\u001b[0m \u001b[39m    RENAME \u001b[39m\u001b[39m'\u001b[39m\u001b[39mMember-Since\u001b[39m\u001b[39m'\u001b[39m\u001b[39m to \u001b[39m\u001b[39m'\u001b[39m\u001b[39mMEMBERSINCE\u001b[39m\u001b[39m'\u001b[39m\n\u001b[0;32m     15\u001b[0m \u001b[39m\"\"\"\u001b[39m\n\u001b[1;32m---> 16\u001b[0m result \u001b[39m=\u001b[39m dbCursor\u001b[39m.\u001b[39;49mexecute(query)\u001b[39m.\u001b[39mfetchall()\n\u001b[0;32m     17\u001b[0m \u001b[39mprint\u001b[39m(result)\n\u001b[0;32m     18\u001b[0m \u001b[39mprint\u001b[39m(\u001b[39mlen\u001b[39m(result))\n",
      "\u001b[1;31mOperationalError\u001b[0m: no such column: \"Member-Since\""
     ]
    }
   ],
   "source": [
    "print('beschikbare kolommen in een tabel')\n",
    "query = \"\"\"\n",
    "SELECT sql FROM sqlite_master\n",
    "WHERE tbl_name = 'eu' AND type = 'table'\n",
    "\"\"\"\n",
    "\n",
    "result = dbCursor.execute(query).fetchall()\n",
    "print(result)\n",
    "print(len(result))\n",
    "\n",
    "\n",
    "query = \"\"\"\n",
    "    ALTER TABLE eu\n",
    "    RENAME 'Member-Since' to 'MEMBERSINCE'\n",
    "\"\"\"\n",
    "result = dbCursor.execute(query).fetchall()\n",
    "print(result)\n",
    "print(len(result))\n",
    "\n",
    "\n"
   ]
  },
  {
   "cell_type": "code",
   "execution_count": 72,
   "id": "2fa6d697",
   "metadata": {},
   "outputs": [
    {
     "name": "stdout",
     "output_type": "stream",
     "text": [
      "[]\n",
      "0\n",
      "[]\n",
      "0\n"
     ]
    }
   ],
   "source": [
    "query = \"\"\"\n",
    "DROP  VIEW v3\n",
    "\"\"\" \n",
    "result = dbCursor.execute(query).fetchall()\n",
    "print(result)\n",
    "print(len(result))\n",
    "\n",
    "query = \"\"\"\n",
    "CREATE VIEW v3(Name,Code)\n",
    "as \n",
    "SELECT Name,Code\n",
    "FROM countries\n",
    "\"\"\" \n",
    "result = dbCursor.execute(query).fetchall()\n",
    "print(result)\n",
    "print(len(result))\n",
    "\n"
   ]
  },
  {
   "cell_type": "code",
   "execution_count": null,
   "id": "f57f3aef-7b89-4d09-a064-c63c777bebcf",
   "metadata": {},
   "outputs": [],
   "source": [
    "# Close connection to SQLite database\n",
    "dbConnection.close()"
   ]
  }
 ],
 "metadata": {
  "kernelspec": {
   "display_name": "Python 3 (ipykernel)",
   "language": "python",
   "name": "python3"
  },
  "language_info": {
   "codemirror_mode": {
    "name": "ipython",
    "version": 3
   },
   "file_extension": ".py",
   "mimetype": "text/x-python",
   "name": "python",
   "nbconvert_exporter": "python",
   "pygments_lexer": "ipython3",
   "version": "3.10.8"
  },
  "vscode": {
   "interpreter": {
    "hash": "115a4c7b28485aecf009f5e2881761c97c7b5516f8f952b2e189f69ef60a25e3"
   }
  }
 },
 "nbformat": 4,
 "nbformat_minor": 5
}
