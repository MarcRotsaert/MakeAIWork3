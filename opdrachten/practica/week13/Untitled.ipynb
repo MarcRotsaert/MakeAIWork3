{
 "cells": [
  {
   "cell_type": "code",
   "execution_count": null,
   "id": "1f947698-f6f1-4516-90c0-71a710228cfd",
   "metadata": {},
   "outputs": [],
   "source": []
  }
 ],
 "metadata": {
  "kernelspec": {
   "display_name": "",
   "name": ""
  },
  "language_info": {
   "name": ""
  }
 },
 "nbformat": 4,
 "nbformat_minor": 5
}
